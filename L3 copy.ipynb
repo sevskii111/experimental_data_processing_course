{
 "metadata": {
  "language_info": {
   "codemirror_mode": {
    "name": "ipython",
    "version": 3
   },
   "file_extension": ".py",
   "mimetype": "text/x-python",
   "name": "python",
   "nbconvert_exporter": "python",
   "pygments_lexer": "ipython3",
   "version": "3.7.6-final"
  },
  "orig_nbformat": 2,
  "kernelspec": {
   "name": "python3",
   "display_name": "Python 3",
   "language": "python"
  }
 },
 "nbformat": 4,
 "nbformat_minor": 2,
 "cells": [
  {
   "cell_type": "code",
   "execution_count": 64,
   "metadata": {},
   "outputs": [],
   "source": [
    "%matplotlib inline\n",
    "import math\n",
    "import numpy as np\n",
    "import matplotlib.pyplot as plt\n",
    "import scipy.stats\n",
    "import ipywidgets as widgets\n"
   ]
  },
  {
   "cell_type": "code",
   "execution_count": 65,
   "metadata": {},
   "outputs": [],
   "source": [
    "def make_row(N, mu, sigma2):\n",
    "    row = np.random.normal(size=int(N), loc=mu, scale=sigma2 ** .5)\n",
    "    return row\n",
    "\n",
    "\n",
    "\n",
    "def check_4(row1, row2, alpha):\n",
    "    N = len(row1)\n",
    "    M = len(row2)\n",
    "    mean1 = np.mean(row1)\n",
    "    mean2 = np.mean(row2)\n",
    "\n",
    "    S1 = np.mean(np.square(row1 - mean1))\n",
    "    S2 = np.mean(np.square(row2 - mean2))\n",
    "    S = ((N - 1) * S1 + (M - 1) * S2) / (M + N + 2)\n",
    "    s = np.sqrt(S)\n",
    "\n",
    "    tau = scipy.stats.t.ppf(alpha / 2, N + M - 2)\n",
    "\n",
    "    Z = np.abs(mean1 - mean2) / s * np.sqrt((M * N) / (M + N))\n",
    "    print(s)\n",
    "    print(mean1, mean2)\n",
    "    print(\"Z: {}\".format(Z))\n",
    "    print(\"tau: {}\".format(tau))\n",
    "    return Z < tau\n"
   ]
  },
  {
   "cell_type": "code",
   "execution_count": 66,
   "metadata": {},
   "outputs": [],
   "source": [
    "out = widgets.Output()\n",
    "row_out1 = widgets.Output()\n",
    "row_out2 = widgets.Output()\n",
    "num_row1 = []\n",
    "num_row2 = []\n",
    "def generate_row1(btn):\n",
    "    global num_row1\n",
    "    num_row1 = make_row(N_1.value, mu_1.value, sigma2.value)\n",
    "    row_out1.clear_output()\n",
    "    with row_out1:\n",
    "        print(\"\\n\".join(list(map(str, num_row1))))\n",
    "\n",
    "def generate_row2(btn):\n",
    "    global num_row2\n",
    "    num_row2 = make_row(N_2.value, mu_2.value, sigma2.value)\n",
    "    row_out2.clear_output()\n",
    "    with row_out2:\n",
    "        print(\"\\n\".join(list(map(str, num_row2))))\n",
    "\n",
    "def on_click(btn):\n",
    "    out.clear_output()\n",
    "    with out:\n",
    "        if (len(num_row1) < 1 or len(num_row2) < 1):\n",
    "            print(\"Пожалуйста сначала сгенерируйте выборки\")\n",
    "            return\n",
    "        res = \"\"\n",
    "        res += \"Гипотеза о равенстве математических ожиданий при неизвестных дисперсиях:\" + \"\\n\"\n",
    "        if check_4(num_row1, num_row2, alpha.value):\n",
    "            res += \"Выполняется гипотеза H0\" + \"\\n\"\n",
    "        else:\n",
    "            res += \"Выполняется гипотеза H1\" + \"\\n\"\n",
    "        \n",
    "        print(res)\n",
    "\n",
    "def mk_btn(description, action):\n",
    "    btn = widgets.Button(description=description, layout=widgets.Layout(width=\"200px\"))\n",
    "    btn.on_click(action)\n",
    "    return btn"
   ]
  },
  {
   "cell_type": "code",
   "execution_count": 67,
   "metadata": {},
   "outputs": [
    {
     "output_type": "display_data",
     "data": {
      "text/plain": "VBox(children=(Label(value='Параметры распределения 1'), FloatText(value=0.0, description='μ:'), FloatText(val…",
      "application/vnd.jupyter.widget-view+json": {
       "version_major": 2,
       "version_minor": 0,
       "model_id": "6fbdb14297a640ebacee45c076078d79"
      }
     },
     "metadata": {}
    }
   ],
   "source": [
    "dist_label_1 = widgets.Label(value=\"Параметры распределения 1\")\n",
    "N_1 = widgets.FloatText(description='N:', value=20)\n",
    "mu_1 = widgets.FloatText(description='μ:', value=0)\n",
    "sigma2 = widgets.FloatText(description='σ²:', value=1)\n",
    "\n",
    "generate_button1 = mk_btn(\"Сгенерировать выборку\", generate_row1)\n",
    "\n",
    "dist_label_2 = widgets.Label(value=\"Параметры распределения 2\")\n",
    "N_2 = widgets.FloatText(description='N:', value=20)\n",
    "mu_2 = widgets.FloatText(description='μ:', value=0)\n",
    "\n",
    "generate_button2 = mk_btn(\"Сгенерировать выборку\", generate_row2)\n",
    "\n",
    "check_label = widgets.Label(value=\"Данные для проверки\")\n",
    "alpha = widgets.BoundedFloatText(description='α:', value=0.05, min=0.001, max=1)\n",
    "mu_check = widgets.FloatText(description='Мат. ожидание:')\n",
    "\n",
    "check_button = mk_btn(\"Проверить гипотезы\", on_click)\n",
    "\n",
    "widgets.VBox((dist_label_1, mu_1, sigma2, N_1, generate_button1, dist_label_2, mu_2, N_2, generate_button2, check_label, alpha, check_button))\n"
   ]
  },
  {
   "cell_type": "code",
   "execution_count": 68,
   "metadata": {},
   "outputs": [
    {
     "output_type": "display_data",
     "data": {
      "text/plain": "Output()",
      "application/vnd.jupyter.widget-view+json": {
       "version_major": 2,
       "version_minor": 0,
       "model_id": "47a46a7f0d194a3ea00bba612f9871d5"
      }
     },
     "metadata": {}
    }
   ],
   "source": [
    "out"
   ]
  },
  {
   "cell_type": "code",
   "execution_count": 69,
   "metadata": {},
   "outputs": [
    {
     "output_type": "display_data",
     "data": {
      "text/plain": "Output()",
      "application/vnd.jupyter.widget-view+json": {
       "version_major": 2,
       "version_minor": 0,
       "model_id": "13d105a7eb584c3b960b4e1c7ed99710"
      }
     },
     "metadata": {}
    }
   ],
   "source": [
    "row_out1"
   ]
  },
  {
   "cell_type": "code",
   "execution_count": 70,
   "metadata": {},
   "outputs": [
    {
     "output_type": "display_data",
     "data": {
      "text/plain": "Output()",
      "application/vnd.jupyter.widget-view+json": {
       "version_major": 2,
       "version_minor": 0,
       "model_id": "f493f1e03b6a4eb68e5c3d69f31ebcfa"
      }
     },
     "metadata": {}
    }
   ],
   "source": [
    "row_out2"
   ]
  },
  {
   "cell_type": "code",
   "execution_count": null,
   "metadata": {},
   "outputs": [],
   "source": []
  }
 ]
}