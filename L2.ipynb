{
 "metadata": {
  "language_info": {
   "codemirror_mode": {
    "name": "ipython",
    "version": 3
   },
   "file_extension": ".py",
   "mimetype": "text/x-python",
   "name": "python",
   "nbconvert_exporter": "python",
   "pygments_lexer": "ipython3",
   "version": "3.9.1-final"
  },
  "orig_nbformat": 2,
  "kernelspec": {
   "name": "python3",
   "display_name": "Python 3.9.1 64-bit ('experimental_data_processing_course': conda)",
   "metadata": {
    "interpreter": {
     "hash": "931f6d29179234c23c3283eef8c347fe2606b6a0b46f74eec1ccd756ed79ff67"
    }
   }
  }
 },
 "nbformat": 4,
 "nbformat_minor": 2,
 "cells": [
  {
   "cell_type": "code",
   "execution_count": 25,
   "metadata": {},
   "outputs": [
    {
     "output_type": "execute_result",
     "data": {
      "text/plain": [
       "<IPython.core.display.HTML object>"
      ],
      "text/html": "<script>\ncode_show=true; \nfunction code_toggle() {\n if (code_show){\n $('div.input').hide();\n } else {\n $('div.input').show();\n }\n code_show = !code_show\n} \n$( document ).ready(code_toggle);\n</script>\n<form action=\"javascript:code_toggle()\"><input type=\"submit\" value=\"Спрятать/показать исходный код.\"></form>"
     },
     "metadata": {},
     "execution_count": 25
    }
   ],
   "source": [
    "from IPython.display import HTML\n",
    "\n",
    "HTML('''<script>\n",
    "code_show=true; \n",
    "function code_toggle() {\n",
    " if (code_show){\n",
    " $('div.input').hide();\n",
    " } else {\n",
    " $('div.input').show();\n",
    " }\n",
    " code_show = !code_show\n",
    "} \n",
    "$( document ).ready(code_toggle);\n",
    "</script>\n",
    "<form action=\"javascript:code_toggle()\"><input type=\"submit\" value=\"Спрятать/показать исходный код.\"></form>''')"
   ]
  },
  {
   "cell_type": "code",
   "execution_count": 26,
   "metadata": {},
   "outputs": [],
   "source": [
    "%matplotlib inline\n",
    "import math\n",
    "import numpy as np\n",
    "import matplotlib.pyplot as plt\n",
    "import scipy.stats"
   ]
  },
  {
   "cell_type": "code",
   "execution_count": 29,
   "metadata": {},
   "outputs": [],
   "source": [
    "N = int(input(\"Объём выборки?(50)\") or \"50\")\n",
    "alpha = float(input(\"Значение α?(0.03)\") or \"0.03\")\n",
    "dispersion = float(input(\"Значение дисперсии?(1)\") or \"1\")\n",
    "\n",
    "row = np.random.normal(size=N, scale=dispersion ** .5)\n",
    "mean = np.mean(row)\n",
    "n_sqrt = np.sqrt(N)\n",
    "sigma = np.sqrt(dispersion)\n",
    "# Вычисление доверительного интервала при известной дисперсии\n",
    "u = scipy.stats.norm.ppf(1 - alpha / 2)\n",
    "delta = u * (sigma) / n_sqrt\n",
    "interval_with_known_dispersion = ((mean - delta), (mean + delta))\n",
    "# Вычисление доверитьельного интервала при неизвестной дисперсии\n",
    "tau = scipy.stats.t.ppf(1 - alpha / 2, N - 1)\n",
    "delta = tau * (sigma) / n_sqrt\n",
    "interval_with_unknown_dispersion = ((mean - delta), (mean + delta))"
   ]
  },
  {
   "cell_type": "code",
   "execution_count": 30,
   "metadata": {},
   "outputs": [
    {
     "output_type": "stream",
     "name": "stdout",
     "text": [
      "(-0.32632964033175443, 0.2874646083793327)\n(-0.33552673561256086, 0.2966617036601391)\n"
     ]
    }
   ],
   "source": [
    "print(interval_with_known_dispersion)\n",
    "print(interval_with_unknown_dispersion)"
   ]
  },
  {
   "cell_type": "code",
   "execution_count": 23,
   "metadata": {},
   "outputs": [
    {
     "output_type": "execute_result",
     "data": {
      "text/plain": [
       "array([-0.07410447,  2.08118352,  1.23331092, -1.1583014 ,  1.04639865,\n",
       "        0.21351482,  1.0277776 ,  0.16433807, -0.2650407 ,  0.19387513,\n",
       "       -1.26953238,  0.30068678, -0.86040489,  0.93875066,  1.12984779,\n",
       "       -1.08725999, -0.64417312, -1.85226289, -0.863005  , -0.76751205,\n",
       "       -0.82128242, -0.550275  , -0.41044643,  1.30929967, -1.10717654,\n",
       "        1.01012157,  1.68935828,  0.46385214,  1.72203308, -0.24718317,\n",
       "        0.74739466,  1.08355352, -1.29644583,  2.1821022 , -0.59041138,\n",
       "       -0.90497895,  0.25196554, -2.44985361,  1.42349273,  0.91209826,\n",
       "       -0.15595519,  0.44254885, -1.02684673, -3.17525214, -0.17529841,\n",
       "        1.30698098,  0.85609032,  2.20047615,  0.48887334,  1.26011554])"
      ]
     },
     "metadata": {},
     "execution_count": 23
    }
   ],
   "source": [
    "row"
   ]
  },
  {
   "cell_type": "code",
   "execution_count": null,
   "metadata": {},
   "outputs": [],
   "source": []
  }
 ]
}