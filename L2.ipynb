{
 "metadata": {
  "language_info": {
   "codemirror_mode": {
    "name": "ipython",
    "version": 3
   },
   "file_extension": ".py",
   "mimetype": "text/x-python",
   "name": "python",
   "nbconvert_exporter": "python",
   "pygments_lexer": "ipython3",
   "version": "3.7.6-final"
  },
  "orig_nbformat": 2,
  "kernelspec": {
   "name": "python3",
   "display_name": "Python 3",
   "language": "python"
  }
 },
 "nbformat": 4,
 "nbformat_minor": 2,
 "cells": [
  {
   "cell_type": "code",
   "execution_count": 1,
   "metadata": {},
   "outputs": [],
   "source": [
    "%matplotlib inline\n",
    "import math\n",
    "import numpy as np\n",
    "import matplotlib.pyplot as plt\n",
    "import scipy.stats"
   ]
  },
  {
   "cell_type": "code",
   "execution_count": 2,
   "metadata": {},
   "outputs": [],
   "source": [
    "N = int(input(\"Объём выборки?(50): \") or \"50\")\n",
    "alpha = float(input(\"Значение α?(0.01): \") or \"0.01\")\n",
    "dispersion = float(input(\"Значение дисперсии?(1): \") or \"1\")"
   ]
  },
  {
   "cell_type": "code",
   "execution_count": 3,
   "metadata": {},
   "outputs": [],
   "source": [
    "row = np.random.normal(size=N, scale=dispersion ** .5)\n",
    "mean = np.mean(row)\n",
    "n_sqrt = np.sqrt(N)\n",
    "sigma = np.sqrt(dispersion)\n",
    "# Вычисление доверительного интервала при известной дисперсии\n",
    "u = scipy.stats.norm.ppf(1 - alpha / 2)\n",
    "delta = u * sigma / n_sqrt\n",
    "interval_with_known_dispersion = ((mean - delta), (mean + delta))\n",
    "# Вычисление доверитьельного интервала при неизвестной дисперсии\n",
    "tau = scipy.stats.t.ppf(1 - alpha / 2, N - 1)\n",
    "S = np.sqrt(np.mean(np.square(row - mean)))\n",
    "delta = tau * S / n_sqrt\n",
    "interval_with_unknown_dispersion = ((mean - delta), (mean + delta))\n",
    "# Вычисление доверительного интервала для дисперсии\n",
    "z1 = scipy.stats.poisson.ppf(1 - alpha / 2, N - 1)\n",
    "z2 = scipy.stats.poisson.ppf(alpha / 2, N - 1)\n",
    "interval_of_dispersion = (N * S ** 2 / z1, N * S ** 2 / z2) "
   ]
  },
  {
   "cell_type": "code",
   "execution_count": 4,
   "metadata": {},
   "outputs": [
    {
     "output_type": "stream",
     "name": "stdout",
     "text": [
      "Доверительный интервал при известной дисперисии: (-0.2982699304123354, 0.43028461667504436)\nДоверительный интервал при неизвестной дисперисии: (-0.28263587538545654, 0.4146505616481655)\nДоверительный интервал дисперисии: (0.6222136261167878, 1.322203955498174)\n"
     ]
    }
   ],
   "source": [
    "print(\"Доверительный интервал при известной дисперисии: \" + str(interval_with_known_dispersion))\n",
    "print(\"Доверительный интервал при неизвестной дисперисии: \" + str(interval_with_unknown_dispersion))\n",
    "print(\"Доверительный интервал дисперисии: \" + str(interval_of_dispersion))"
   ]
  },
  {
   "cell_type": "code",
   "execution_count": null,
   "metadata": {},
   "outputs": [],
   "source": []
  }
 ]
}