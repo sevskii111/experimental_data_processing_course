{
 "metadata": {
  "language_info": {
   "codemirror_mode": {
    "name": "ipython",
    "version": 3
   },
   "file_extension": ".py",
   "mimetype": "text/x-python",
   "name": "python",
   "nbconvert_exporter": "python",
   "pygments_lexer": "ipython3",
   "version": "3.9.1-final"
  },
  "orig_nbformat": 2,
  "kernelspec": {
   "name": "python3",
   "display_name": "Python 3.9.1 64-bit ('experimental_data_processing_course': conda)",
   "metadata": {
    "interpreter": {
     "hash": "931f6d29179234c23c3283eef8c347fe2606b6a0b46f74eec1ccd756ed79ff67"
    }
   }
  }
 },
 "nbformat": 4,
 "nbformat_minor": 2,
 "cells": [
  {
   "cell_type": "code",
   "execution_count": 1,
   "metadata": {},
   "outputs": [
    {
     "output_type": "execute_result",
     "data": {
      "text/plain": [
       "<IPython.core.display.HTML object>"
      ],
      "text/html": "<script>\ncode_show=true; \nfunction code_toggle() {\n if (code_show){\n $('div.input').hide();\n } else {\n $('div.input').show();\n }\n code_show = !code_show\n} \n$( document ).ready(code_toggle);\n</script>\n<script>\n    // AUTORUN ALL CELLS ON NOTEBOOK-LOAD!\n    require(\n        ['base/js/namespace', 'jquery'], \n        function(jupyter, $) {\n            $(jupyter.events).on(\"kernel_ready.Kernel\", function () {\n                console.log(\"Auto-running all cells-below...\");\n                jupyter.actions.call('jupyter-notebook:run-all-cells-below');\n                jupyter.actions.call('jupyter-notebook:save-notebook');\n            });\n        }\n    );\n</script>\n<form action=\"javascript:code_toggle()\"><input type=\"submit\" value=\"Спрятать/показать исходный код.\"></form>"
     },
     "metadata": {},
     "execution_count": 1
    }
   ],
   "source": [
    "from IPython.display import HTML\n",
    "\n",
    "HTML('''<script>\n",
    "code_show=true; \n",
    "function code_toggle() {\n",
    " if (code_show){\n",
    " $('div.input').hide();\n",
    " } else {\n",
    " $('div.input').show();\n",
    " }\n",
    " code_show = !code_show\n",
    "} \n",
    "$( document ).ready(code_toggle);\n",
    "</script>\n",
    "<script>\n",
    "    // AUTORUN ALL CELLS ON NOTEBOOK-LOAD!\n",
    "    require(\n",
    "        ['base/js/namespace', 'jquery'], \n",
    "        function(jupyter, $) {\n",
    "            $(jupyter.events).on(\"kernel_ready.Kernel\", function () {\n",
    "                console.log(\"Auto-running all cells-below...\");\n",
    "                jupyter.actions.call('jupyter-notebook:run-all-cells-below');\n",
    "                jupyter.actions.call('jupyter-notebook:save-notebook');\n",
    "            });\n",
    "        }\n",
    "    );\n",
    "</script>\n",
    "<form action=\"javascript:code_toggle()\"><input type=\"submit\" value=\"Спрятать/показать исходный код.\"></form>''')"
   ]
  },
  {
   "cell_type": "code",
   "execution_count": 2,
   "metadata": {},
   "outputs": [],
   "source": [
    "%matplotlib inline\n",
    "import math\n",
    "import numpy as np\n",
    "import matplotlib.pyplot as plt\n",
    "import scipy.stats"
   ]
  },
  {
   "cell_type": "code",
   "execution_count": 3,
   "metadata": {},
   "outputs": [],
   "source": [
    "N = int(input(\"Объём выборки?(50)\") or \"50\")\n",
    "alpha = float(input(\"Значение α?(0.01)\") or \"0.01\")\n",
    "dispersion = float(input(\"Значение дисперсии?(1)\") or \"1\")"
   ]
  },
  {
   "cell_type": "code",
   "execution_count": 4,
   "metadata": {},
   "outputs": [],
   "source": [
    "row = np.random.normal(size=N, scale=dispersion ** .5)\n",
    "mean = np.mean(row)\n",
    "n_sqrt = np.sqrt(N)\n",
    "sigma = np.sqrt(dispersion)\n",
    "# Вычисление доверительного интервала при известной дисперсии\n",
    "u = scipy.stats.norm.ppf(1 - alpha / 2)\n",
    "delta = u * sigma / n_sqrt\n",
    "interval_with_known_dispersion = ((mean - delta), (mean + delta))\n",
    "# Вычисление доверитьельного интервала при неизвестной дисперсии\n",
    "tau = scipy.stats.t.ppf(1 - alpha / 2, N - 1)\n",
    "S = np.sqrt(np.mean(np.square(row - mean)))\n",
    "delta = tau * S / n_sqrt\n",
    "interval_with_unknown_dispersion = ((mean - delta), (mean + delta))\n",
    "# Вычисление доверительного интервала для дисперсии\n",
    "z1 = scipy.stats.poisson.ppf(1 - alpha / 2, N - 1)\n",
    "z2 = scipy.stats.poisson.ppf(alpha / 2, N - 1)\n",
    "interval_of_dispersion = (N * S ** 2 / z1, N * S ** 2 / z2) "
   ]
  },
  {
   "cell_type": "code",
   "execution_count": 5,
   "metadata": {},
   "outputs": [
    {
     "output_type": "stream",
     "name": "stdout",
     "text": [
      "Доверительный интервал при известной дисперисии: (-0.46710062168035293, 0.26145392540702683)\nДоверительный интервал при неизвестной дисперисии: (-0.4875455919704756, 0.2818988956971495)\nДоверительный интервал дисперисии: (0.7576553032903248, 1.6100175194919402)\n"
     ]
    }
   ],
   "source": [
    "print(\"Доверительный интервал при известной дисперисии: \" + str(interval_with_known_dispersion))\n",
    "print(\"Доверительный интервал при неизвестной дисперисии: \" + str(interval_with_unknown_dispersion))\n",
    "print(\"Доверительный интервал дисперисии: \" + str(interval_of_dispersion))"
   ]
  },
  {
   "cell_type": "code",
   "execution_count": null,
   "metadata": {},
   "outputs": [],
   "source": []
  }
 ]
}