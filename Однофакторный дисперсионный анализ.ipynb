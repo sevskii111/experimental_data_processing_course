{
 "metadata": {
  "language_info": {
   "codemirror_mode": {
    "name": "ipython",
    "version": 3
   },
   "file_extension": ".py",
   "mimetype": "text/x-python",
   "name": "python",
   "nbconvert_exporter": "python",
   "pygments_lexer": "ipython3",
   "version": "3.9.2"
  },
  "orig_nbformat": 2,
  "kernelspec": {
   "name": "python392jvsc74a57bd0d359457017430af2866a3f24a32d5e9d7f252e95793d1089f6a8ca6ef023b556",
   "display_name": "Python 3.9.2 64-bit ('experimental_data_processing_course': conda)"
  },
  "metadata": {
   "interpreter": {
    "hash": "d359457017430af2866a3f24a32d5e9d7f252e95793d1089f6a8ca6ef023b556"
   }
  }
 },
 "nbformat": 4,
 "nbformat_minor": 2,
 "cells": [
  {
   "cell_type": "code",
   "execution_count": 1,
   "metadata": {},
   "outputs": [],
   "source": [
    "import numpy as np"
   ]
  },
  {
   "cell_type": "code",
   "execution_count": 2,
   "metadata": {},
   "outputs": [],
   "source": [
    "x = [\n",
    "        [1,3,2,1,0,2,1],\n",
    "        [2,3,2,1,4],\n",
    "        [4,2,3]\n",
    "]\n",
    "r = len(x)\n",
    "n = list(map(len, x))\n",
    "n_sum = sum(n)"
   ]
  },
  {
   "cell_type": "code",
   "execution_count": 3,
   "metadata": {},
   "outputs": [],
   "source": [
    "A = list(map(sum, x))\n",
    "A_sum = sum(A)"
   ]
  },
  {
   "cell_type": "code",
   "execution_count": 4,
   "metadata": {},
   "outputs": [],
   "source": [
    "j = 0\n",
    "Q = sum(map(sum, map(lambda row: map(lambda el: el ** 2, row), x))) - 1. / n_sum * A_sum ** 2\n",
    "Q1 = sum(map(lambda j: 1 / n[j] * A[j] ** 2, range(r))) - 1. / n_sum * A_sum ** 2\n",
    "Q2 = Q - Q1"
   ]
  },
  {
   "cell_type": "code",
   "execution_count": 5,
   "metadata": {},
   "outputs": [],
   "source": [
    "s1 = Q1 / (r - 1)\n",
    "s2 = Q2 / (n_sum - r)\n",
    "Z = s1 / s2"
   ]
  },
  {
   "cell_type": "code",
   "execution_count": 6,
   "metadata": {},
   "outputs": [
    {
     "output_type": "stream",
     "name": "stdout",
     "text": [
      "Q = 18.93\nQ1 = 6.02\nQ2 = 12.91\ns1 = 3.01\ns2 = 1.08\nZ = 2.8\n"
     ]
    }
   ],
   "source": [
    "print(f\"Q = {round(Q, 2)}\")\n",
    "print(f\"Q1 = {round(Q1, 2)}\")\n",
    "print(f\"Q2 = {round(Q2, 2)}\")\n",
    "print(f\"s1 = {round(s1, 2)}\")\n",
    "print(f\"s2 = {round(s2, 2)}\")\n",
    "print(f\"Z = {round(Z, 2)}\")"
   ]
  },
  {
   "cell_type": "code",
   "execution_count": null,
   "metadata": {},
   "outputs": [],
   "source": []
  }
 ]
}