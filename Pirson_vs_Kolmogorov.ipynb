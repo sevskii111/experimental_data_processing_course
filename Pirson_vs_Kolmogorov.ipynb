{
 "cells": [
  {
   "cell_type": "code",
   "execution_count": 9,
   "metadata": {},
   "outputs": [],
   "source": [
    "%matplotlib inline\n",
    "import math\n",
    "import numpy as np\n",
    "import matplotlib.pyplot as plt\n",
    "import scipy.stats\n",
    "import ipywidgets as widgets\n"
   ]
  },
  {
   "cell_type": "code",
   "execution_count": 17,
   "metadata": {},
   "outputs": [],
   "source": [
    "rand_ints_output = widgets.Output()\n",
    "check_output = widgets.Output()\n",
    "\n",
    "def generate_ints(n, output=None):\n",
    "    result = np.sort(np.random.uniform(size=n))\n",
    "    if output is not None:\n",
    "        output.clear_output()\n",
    "        with output:\n",
    "            print(result)\n",
    "    return result\n",
    "\n",
    "def pirson(row, alpha, m):\n",
    "    if m == 0:\n",
    "        m = int(1 + np.floor(3.22 * np.log10(len(row))))\n",
    "    min = np.min(row)\n",
    "    max = np.max(row)\n",
    "    h = (max - min) / m\n",
    "    delta_sum = 0\n",
    "    for i in range(m):\n",
    "        n = np.sum((row >= min + h * i) & (row <= min + h * (i + 1)))\n",
    "        p = scipy.stats.uniform.cdf(min + h * (i + 1)) - scipy.stats.uniform.cdf(min + h * i)\n",
    "        delta = (n - len(row) * p) ** 2 / (len(row) * p)\n",
    "        delta_sum += delta\n",
    "\n",
    "    tau = scipy.stats.poisson.ppf(1 - alpha / 2, m - 1)\n",
    "    print(\"δ = {:.2f}\".format(delta_sum))\n",
    "    print(\"tau = {:.2f}\".format(tau))\n",
    "    return np.abs(delta_sum) <= tau\n",
    "\n",
    "\n",
    "def Dnp(x):\n",
    "    return np.max([np.abs(i / len(x) - x[i - 1]) for i in range(1, len(x) + 1)])\n",
    "\n",
    "def Dnm(x):\n",
    "    return np.max([np.abs(x[i - 1] - (i - 1) / len(x)) for i in range(1, len(x) + 1)])\n",
    "\n",
    "def Dn(x):\n",
    "    dnp = Dnp(x)\n",
    "    dnm = Dnm(x)\n",
    "    return np.max([dnp, dnm])\n",
    "\n",
    "def Dn_alpha(n, alpha):\n",
    "    return np.sqrt(1 / (2 * n) * np.log(2 / (1 - alpha)))\n",
    "\n",
    "def kolmogorov(row, alpha, m):\n",
    "    dna = Dn_alpha(m, alpha)\n",
    "    dn = Dn(row)\n",
    "    print(\"D_n = \" + str(dn))\n",
    "    print(\"D_n (α) = \" + str(dna))\n",
    "    return dn <= dna"
   ]
  },
  {
   "cell_type": "code",
   "execution_count": 18,
   "metadata": {},
   "outputs": [],
   "source": [
    "num_row = None\n",
    "N = widgets.IntText(description='N:', value=10)\n",
    "alpha = widgets.BoundedFloatText(description='α:', value=0.05, min=0.001, max=1)\n",
    "def generate_and_check_btn_handler(btn):\n",
    "    num_row = generate_ints(N.value, rand_ints_output)\n",
    "    check_output.clear_output()\n",
    "    with check_output:\n",
    "        p = pirson(num_row, alpha.value, N.value)\n",
    "        k = kolmogorov(num_row, alpha.value, N.value)\n",
    "        print(\"Пирсон: \" + (\"H0\" if p else \"H1\"))\n",
    "        print(\"Колмогоров: \" + (\"H0\" if k else \"H1\"))\n",
    "\n",
    "def mk_btn(description, action):\n",
    "    btn = widgets.Button(description=description, layout=widgets.Layout(width=\"200px\"))\n",
    "    btn.on_click(action)\n",
    "    return btn\n",
    "\n",
    "check_button = mk_btn(\"Сгенерировать и проверить\", generate_and_check_btn_handler)"
   ]
  },
  {
   "cell_type": "code",
   "execution_count": 19,
   "metadata": {},
   "outputs": [
    {
     "data": {
      "application/vnd.jupyter.widget-view+json": {
       "model_id": "1364c92c9323459e92331cf6e38e427c",
       "version_major": 2,
       "version_minor": 0
      },
      "text/plain": "VBox(children=(IntText(value=10, description='N:'), BoundedFloatText(value=0.05, description='α:', max=1.0, mi…"
     },
     "metadata": {},
     "output_type": "display_data"
    }
   ],
   "source": [
    "widgets.VBox((N, alpha, check_button))"
   ]
  },
  {
   "cell_type": "code",
   "execution_count": 20,
   "metadata": {},
   "outputs": [
    {
     "data": {
      "application/vnd.jupyter.widget-view+json": {
       "model_id": "1ccfc9f68fa7437fa5b49531e6b54653",
       "version_major": 2,
       "version_minor": 0
      },
      "text/plain": "Output()"
     },
     "metadata": {},
     "output_type": "display_data"
    }
   ],
   "source": [
    "check_output"
   ]
  },
  {
   "cell_type": "code",
   "execution_count": 21,
   "metadata": {},
   "outputs": [
    {
     "data": {
      "application/vnd.jupyter.widget-view+json": {
       "model_id": "74ca20d3730a4dc6aec7752c6470b58e",
       "version_major": 2,
       "version_minor": 0
      },
      "text/plain": "Output()"
     },
     "metadata": {},
     "output_type": "display_data"
    }
   ],
   "source": [
    "rand_ints_output"
   ]
  },
  {
   "cell_type": "code",
   "execution_count": null,
   "metadata": {},
   "outputs": [],
   "source": []
  }
 ],
 "metadata": {
  "kernelspec": {
   "display_name": "Python 3.9.2 64-bit ('experimental_data_processing_course': conda)",
   "name": "python392jvsc74a57bd0d359457017430af2866a3f24a32d5e9d7f252e95793d1089f6a8ca6ef023b556"
  },
  "language_info": {
   "codemirror_mode": {
    "name": "ipython",
    "version": 3
   },
   "file_extension": ".py",
   "mimetype": "text/x-python",
   "name": "python",
   "nbconvert_exporter": "python",
   "pygments_lexer": "ipython3",
   "version": "3.9.2"
  },
  "metadata": {
   "interpreter": {
    "hash": "d359457017430af2866a3f24a32d5e9d7f252e95793d1089f6a8ca6ef023b556"
   }
  },
  "orig_nbformat": 2
 },
 "nbformat": 4,
 "nbformat_minor": 2
}