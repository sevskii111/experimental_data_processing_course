{
 "cells": [
  {
   "cell_type": "code",
   "execution_count": 96,
   "metadata": {},
   "outputs": [],
   "source": [
    "import numpy as np\n",
    "import ipywidgets as widgets"
   ]
  },
  {
   "cell_type": "code",
   "execution_count": 106,
   "metadata": {},
   "outputs": [],
   "source": [
    "def generate_ints(n, output=None):\n",
    "    print(n)\n",
    "    result = np.sort(np.random.uniform(size=n))\n",
    "    if output is not None:\n",
    "        output.clear_output()\n",
    "        with output:\n",
    "            print(result)\n",
    "    return result\n",
    "\n",
    "def F(x):\n",
    "    return x\n",
    "\n",
    "def Dnp(x):\n",
    "    return np.max([np.abs(i / len(x) - x[i - 1]) for i in range(1, len(x) + 1)])\n",
    "\n",
    "def Dnm(x):\n",
    "    return np.max([np.abs(x[i - 1] - (i - 1) / len(x)) for i in range(1, len(x) + 1)])\n",
    "\n",
    "def Dn(x):\n",
    "    dnp = Dnp(x)\n",
    "    dnm = Dnm(x)\n",
    "    print(\"D_n^+ = \" + str(dnp))\n",
    "    print(\"D_n^- = \" + str(dnm))\n",
    "    return np.max([dnp, dnm])\n",
    "\n",
    "def Dn_alpha(n, alpha):\n",
    "    return np.sqrt(1 / (2 * n) * np.log(2 / (1 - alpha)))"
   ]
  },
  {
   "cell_type": "code",
   "execution_count": 107,
   "metadata": {},
   "outputs": [],
   "source": [
    "num_row = None\n",
    "N = widgets.IntText(description='N:', value=10)\n",
    "alpha = widgets.BoundedFloatText(description='α:', value=0.05, min=0.001, max=1)\n",
    "rand_ints_output = widgets.Output()\n",
    "check_output = widgets.Output()\n",
    "def generate_and_check_btn_handler(btn):\n",
    "    num_row = generate_ints(N.value, rand_ints_output)\n",
    "    check_output.clear_output()\n",
    "    with check_output:\n",
    "        dna = Dn_alpha(N.value, alpha.value)\n",
    "        dn = Dn(num_row)\n",
    "        print(\"D_n = \" + str(dn))\n",
    "        print(\"D_n (α) = \" + str(dna))\n",
    "        if dn <= dna:\n",
    "            print(\"Выполняется гипотеза H0\")\n",
    "        else:\n",
    "            print(\"Выполняется гипотеза H1\")\n",
    "\n",
    "def mk_btn(description, action):\n",
    "    btn = widgets.Button(description=description, layout=widgets.Layout(width=\"200px\"))\n",
    "    btn.on_click(action)\n",
    "    return btn\n",
    "\n",
    "check_button = mk_btn(\"Сгенерировать и проверить\", generate_and_check_btn_handler)"
   ]
  },
  {
   "cell_type": "code",
   "execution_count": 108,
   "metadata": {},
   "outputs": [
    {
     "data": {
      "application/vnd.jupyter.widget-view+json": {
       "model_id": "41920bf2de82436eb96905ac311625a6",
       "version_major": 2,
       "version_minor": 0
      },
      "text/plain": "VBox(children=(IntText(value=10, description='N:'), BoundedFloatText(value=0.05, description='α:', max=1.0, mi…"
     },
     "metadata": {},
     "output_type": "display_data"
    }
   ],
   "source": [
    "widgets.VBox((N, alpha, check_button))\n"
   ]
  },
  {
   "cell_type": "code",
   "execution_count": 109,
   "metadata": {},
   "outputs": [
    {
     "data": {
      "application/vnd.jupyter.widget-view+json": {
       "model_id": "dc6e190b056c49d78eb16026e307d531",
       "version_major": 2,
       "version_minor": 0
      },
      "text/plain": "Output(outputs=({'name': 'stdout', 'text': 'D_n^+ = 0.10688915984036151\\nD_n^- = 0.15932870164586638\\nD_n = 0.…"
     },
     "metadata": {},
     "output_type": "display_data"
    }
   ],
   "source": [
    "check_output"
   ]
  },
  {
   "cell_type": "code",
   "execution_count": 110,
   "metadata": {},
   "outputs": [
    {
     "data": {
      "application/vnd.jupyter.widget-view+json": {
       "model_id": "d2a19e5743e94d0cbcdaac601c6b2606",
       "version_major": 2,
       "version_minor": 0
      },
      "text/plain": "Output(outputs=({'name': 'stdout', 'text': '[0.13563019 0.18556906 0.30347277 0.4593287  0.50973091 0.61554698…"
     },
     "metadata": {},
     "output_type": "display_data"
    }
   ],
   "source": [
    "rand_ints_output"
   ]
  },
  {
   "cell_type": "code",
   "execution_count": null,
   "metadata": {},
   "outputs": [],
   "source": []
  }
 ],
 "metadata": {
  "kernelspec": {
   "display_name": "Python 3.9.2 64-bit ('base': conda)",
   "name": "python392jvsc74a57bd095ec9ec1504d83f612128e0fb229072f90bbb4cb09d9d5d93b5dd26e0ca2cfd1"
  },
  "language_info": {
   "codemirror_mode": {
    "name": "ipython",
    "version": 3
   },
   "file_extension": ".py",
   "mimetype": "text/x-python",
   "name": "python",
   "nbconvert_exporter": "python",
   "pygments_lexer": "ipython3",
   "version": "3.9.2"
  },
  "metadata": {
   "interpreter": {
    "hash": "95ec9ec1504d83f612128e0fb229072f90bbb4cb09d9d5d93b5dd26e0ca2cfd1"
   }
  },
  "orig_nbformat": 2
 },
 "nbformat": 4,
 "nbformat_minor": 2
}