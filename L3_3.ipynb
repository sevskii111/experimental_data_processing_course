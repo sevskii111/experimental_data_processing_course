{
 "cells": [
  {
   "cell_type": "code",
   "execution_count": 1,
   "metadata": {},
   "outputs": [],
   "source": [
    "%matplotlib inline\n",
    "import math\n",
    "import numpy as np\n",
    "import matplotlib.pyplot as plt\n",
    "import scipy.stats\n",
    "import ipywidgets as widgets\n"
   ]
  },
  {
   "cell_type": "code",
   "execution_count": 2,
   "metadata": {},
   "outputs": [],
   "source": [
    "def make_row(N, mu, sigma2):\n",
    "    row = np.random.normal(size=int(N), loc=mu, scale=sigma2 ** .5)\n",
    "    return row\n",
    "\n",
    "\n",
    "\n",
    "def check_6(row, mu, sigma2, alpha, m):\n",
    "    if m == 0:\n",
    "        m = int(1 + np.floor(3.22 * np.log10(len(row))))\n",
    "    min = np.min(row)\n",
    "    max = np.max(row)\n",
    "    h = (max - min) / m\n",
    "    delta_sum = 0\n",
    "    for i in range(m):\n",
    "        n = np.sum((row >= min + h * i) & (row <= min + h * (i + 1)))\n",
    "        p = scipy.stats.norm.cdf(min + h * (i + 1), mu, sigma2) - scipy.stats.norm.cdf(min + h * i, mu, sigma2)\n",
    "        delta = (n - len(row) * p) ** 2 / (len(row) * p)\n",
    "        delta_sum += delta\n",
    "\n",
    "    tau = scipy.stats.poisson.ppf(1 - alpha / 2, m - 1)\n",
    "    print(\"δ = {:.2f}\".format(delta_sum))\n",
    "    print(\"tau = {:.2f}\".format(tau))\n",
    "    return np.abs(delta_sum) <= tau\n"
   ]
  },
  {
   "cell_type": "code",
   "execution_count": 3,
   "metadata": {},
   "outputs": [],
   "source": [
    "out = widgets.Output()\n",
    "row_out = widgets.Output()\n",
    "num_row = []\n",
    "\n",
    "def generate_row(btn):\n",
    "    global num_row\n",
    "    with row_out:\n",
    "        num_row = make_row(N.value, mu_1.value, sigma2_1.value)\n",
    "        row_out.clear_output()\n",
    "        print(\"\\n\".join(list(map(str, num_row))))\n",
    "\n",
    "\n",
    "def on_click(btn):\n",
    "    out.clear_output()\n",
    "    with out:\n",
    "        if len(num_row) < 1:\n",
    "            print(\"Пожалуйста сначала сгенерируйте выборку\")\n",
    "            return\n",
    "        \n",
    "        print(\"Проверка по критерию Пирсона:\")\n",
    "        if check_6(num_row, mu_2.value, sigma2_2.value, alpha.value, m.value):\n",
    "            print(\"Выполняется гипотеза H0\")\n",
    "        else:\n",
    "            print(\"Выполняется гипотеза H1\")\n",
    "        print()\n",
    "        \n",
    "\n",
    "def mk_btn(description, action):\n",
    "    btn = widgets.Button(description=description, layout=widgets.Layout(width=\"200px\"))\n",
    "    btn.on_click(action)\n",
    "    return btn"
   ]
  },
  {
   "cell_type": "code",
   "execution_count": 4,
   "metadata": {},
   "outputs": [
    {
     "data": {
      "application/vnd.jupyter.widget-view+json": {
       "model_id": "a83a127ed1414154a83f7db94f61b7aa",
       "version_major": 2,
       "version_minor": 0
      },
      "text/plain": "VBox(children=(Label(value='Параметры распределения из которого будет генерироваться выборка'), FloatText(valu…"
     },
     "metadata": {},
     "output_type": "display_data"
    }
   ],
   "source": [
    "dist_label_1 = widgets.Label(value=\"Параметры распределения из которого будет генерироваться выборка\")\n",
    "N = widgets.FloatText(description='N:', value=20)\n",
    "mu_1 = widgets.FloatText(description='μ:', value=0)\n",
    "sigma2_1 = widgets.FloatText(description='σ²:', value=1)\n",
    "\n",
    "generate_button = mk_btn(\"Сгенерировать выборку\", generate_row)\n",
    "\n",
    "dist_label_2 = widgets.Label(value=\"Параметры распределения F1\")\n",
    "mu_2 = widgets.FloatText(description='μ:', value=0)\n",
    "sigma2_2 = widgets.FloatText(description='σ²:', value=1)\n",
    "\n",
    "check_label = widgets.Label(value=\"Данные для проверки\")\n",
    "alpha = widgets.BoundedFloatText(description='α:', value=0.05, min=0.001, max=1)\n",
    "m = widgets.BoundedIntText(description='m(0 для подсчёта по формуле Стерджеса):', value=0, min=0, max=1000000)\n",
    "\n",
    "check_button = mk_btn(\"Проверить гипотезы\", on_click)\n",
    "\n",
    "widgets.VBox((dist_label_1, mu_1, sigma2_1, N, generate_button, dist_label_2, mu_2, sigma2_2, check_label, alpha, m, check_button))\n"
   ]
  },
  {
   "cell_type": "code",
   "execution_count": 5,
   "metadata": {},
   "outputs": [
    {
     "data": {
      "application/vnd.jupyter.widget-view+json": {
       "model_id": "83e75b6f22064889aa6d66093cc2efc9",
       "version_major": 2,
       "version_minor": 0
      },
      "text/plain": "Output()"
     },
     "metadata": {},
     "output_type": "display_data"
    }
   ],
   "source": [
    "out"
   ]
  },
  {
   "cell_type": "code",
   "execution_count": 99,
   "metadata": {},
   "outputs": [
    {
     "data": {
      "application/vnd.jupyter.widget-view+json": {
       "model_id": "bc91f5c797544c45836c9f57202e48a6",
       "version_major": 2,
       "version_minor": 0
      },
      "text/plain": "Output()"
     },
     "metadata": {},
     "output_type": "display_data"
    }
   ],
   "source": [
    "row_out"
   ]
  }
 ],
 "metadata": {
  "kernelspec": {
   "display_name": "Python 3.9.2 64-bit ('experimental_data_processing_course': conda)",
   "name": "python392jvsc74a57bd0d359457017430af2866a3f24a32d5e9d7f252e95793d1089f6a8ca6ef023b556"
  },
  "language_info": {
   "codemirror_mode": {
    "name": "ipython",
    "version": 3
   },
   "file_extension": ".py",
   "mimetype": "text/x-python",
   "name": "python",
   "nbconvert_exporter": "python",
   "pygments_lexer": "ipython3",
   "version": "3.9.2"
  },
  "metadata": {
   "interpreter": {
    "hash": "d359457017430af2866a3f24a32d5e9d7f252e95793d1089f6a8ca6ef023b556"
   }
  },
  "orig_nbformat": 2
 },
 "nbformat": 4,
 "nbformat_minor": 2
}