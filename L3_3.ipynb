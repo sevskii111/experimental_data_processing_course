{
 "metadata": {
  "language_info": {
   "codemirror_mode": {
    "name": "ipython",
    "version": 3
   },
   "file_extension": ".py",
   "mimetype": "text/x-python",
   "name": "python",
   "nbconvert_exporter": "python",
   "pygments_lexer": "ipython3",
   "version": "3.9.2-final"
  },
  "orig_nbformat": 2,
  "kernelspec": {
   "name": "python3",
   "display_name": "Python 3",
   "language": "python"
  }
 },
 "nbformat": 4,
 "nbformat_minor": 2,
 "cells": [
  {
   "cell_type": "code",
   "execution_count": 94,
   "metadata": {},
   "outputs": [],
   "source": [
    "%matplotlib inline\n",
    "import math\n",
    "import numpy as np\n",
    "import matplotlib.pyplot as plt\n",
    "import scipy.stats\n",
    "import ipywidgets as widgets\n"
   ]
  },
  {
   "cell_type": "code",
   "execution_count": 95,
   "metadata": {},
   "outputs": [],
   "source": [
    "def make_row(N, mu, sigma2):\n",
    "    row = np.random.normal(size=int(N), loc=mu, scale=sigma2 ** .5)\n",
    "    return row\n",
    "\n",
    "\n",
    "\n",
    "def check_6(row, mu, sigma2, alpha, m):\n",
    "    if m == 0:\n",
    "        m = int(1 + np.floor(3.22 * np.log10(len(row))))\n",
    "    min = np.min(row)\n",
    "    max = np.max(row)\n",
    "    h = (max - min) / m\n",
    "    delta_sum = 0\n",
    "    for i in range(m):\n",
    "        n = np.sum((row >= min + h * i) & (row <= min + h * (i + 1)))\n",
    "        p = scipy.stats.norm.cdf(min + h * (i + 1), mu, sigma2) - scipy.stats.norm.cdf(min + h * i, mu, sigma2)\n",
    "        delta = (n - len(row) * p) ** 2 / (len(row) * p)\n",
    "        delta_sum += delta\n",
    "\n",
    "    tau = scipy.stats.poisson.ppf(1 - alpha / 2, m - 1)\n",
    "    print(\"δ = {:.2f}\".format(delta_sum))\n",
    "    print(\"tau = {:.2f}\".format(tau))\n",
    "    return np.abs(delta_sum) <= tau\n"
   ]
  },
  {
   "cell_type": "code",
   "execution_count": 96,
   "metadata": {},
   "outputs": [],
   "source": [
    "out = widgets.Output()\n",
    "row_out = widgets.Output()\n",
    "num_row = []\n",
    "\n",
    "def generate_row(btn):\n",
    "    global num_row\n",
    "    with row_out:\n",
    "        num_row = make_row(N.value, mu_1.value, sigma2_1.value)\n",
    "        row_out.clear_output()\n",
    "        print(\"\\n\".join(list(map(str, num_row))))\n",
    "\n",
    "\n",
    "def on_click(btn):\n",
    "    out.clear_output()\n",
    "    with out:\n",
    "        if len(num_row) < 1:\n",
    "            print(\"Пожалуйста сначала сгенерируйте выборку\")\n",
    "            return\n",
    "        \n",
    "        print(\"Гипотеза о равенстве математических ожиданий при неизвестных дисперсиях:\")\n",
    "        if check_6(num_row, mu_2.value, sigma2_2.value, alpha.value, m.value):\n",
    "            print(\"Выполняется гипотеза H0\")\n",
    "        else:\n",
    "            print(\"Выполняется гипотеза H1\")\n",
    "        print()\n",
    "        \n",
    "\n",
    "def mk_btn(description, action):\n",
    "    btn = widgets.Button(description=description, layout=widgets.Layout(width=\"200px\"))\n",
    "    btn.on_click(action)\n",
    "    return btn"
   ]
  },
  {
   "cell_type": "code",
   "execution_count": 97,
   "metadata": {},
   "outputs": [
    {
     "output_type": "display_data",
     "data": {
      "text/plain": "VBox(children=(Label(value='Параметры распределения из которого будет генерироваться выборка'), FloatText(valu…",
      "application/vnd.jupyter.widget-view+json": {
       "version_major": 2,
       "version_minor": 0,
       "model_id": "3f6cc3cd46914805adb74cf21d59af44"
      }
     },
     "metadata": {}
    }
   ],
   "source": [
    "dist_label_1 = widgets.Label(value=\"Параметры распределения из которого будет генерироваться выборка\")\n",
    "N = widgets.FloatText(description='N:', value=20)\n",
    "mu_1 = widgets.FloatText(description='μ:', value=0)\n",
    "sigma2_1 = widgets.FloatText(description='σ²:', value=1)\n",
    "\n",
    "generate_button = mk_btn(\"Сгенерировать выборку\", generate_row)\n",
    "\n",
    "dist_label_2 = widgets.Label(value=\"Параметры распределения F1\")\n",
    "mu_2 = widgets.FloatText(description='μ:', value=0)\n",
    "sigma2_2 = widgets.FloatText(description='σ²:', value=1)\n",
    "\n",
    "check_label = widgets.Label(value=\"Данные для проверки\")\n",
    "alpha = widgets.BoundedFloatText(description='α:', value=0.05, min=0.001, max=1)\n",
    "m = widgets.BoundedIntText(description='m(0 для подсчёта по формуле Стерджеса):', value=0, min=0, max=1000000)\n",
    "\n",
    "check_button = mk_btn(\"Проверить гипотезы\", on_click)\n",
    "\n",
    "widgets.VBox((dist_label_1, mu_1, sigma2_1, N, generate_button, dist_label_2, mu_2, sigma2_2, check_label, alpha, m, check_button))\n"
   ]
  },
  {
   "cell_type": "code",
   "execution_count": 98,
   "metadata": {},
   "outputs": [
    {
     "output_type": "display_data",
     "data": {
      "text/plain": "Output()",
      "application/vnd.jupyter.widget-view+json": {
       "version_major": 2,
       "version_minor": 0,
       "model_id": "a15bafc12632404baf29b2dce3e53b49"
      }
     },
     "metadata": {}
    }
   ],
   "source": [
    "out"
   ]
  },
  {
   "cell_type": "code",
   "execution_count": 99,
   "metadata": {},
   "outputs": [
    {
     "output_type": "display_data",
     "data": {
      "text/plain": "Output()",
      "application/vnd.jupyter.widget-view+json": {
       "version_major": 2,
       "version_minor": 0,
       "model_id": "bc91f5c797544c45836c9f57202e48a6"
      }
     },
     "metadata": {}
    }
   ],
   "source": [
    "row_out"
   ]
  }
 ]
}