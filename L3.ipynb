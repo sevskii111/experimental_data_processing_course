{
 "metadata": {
  "language_info": {
   "codemirror_mode": {
    "name": "ipython",
    "version": 3
   },
   "file_extension": ".py",
   "mimetype": "text/x-python",
   "name": "python",
   "nbconvert_exporter": "python",
   "pygments_lexer": "ipython3",
   "version": "3.8.3"
  },
  "orig_nbformat": 2,
  "kernelspec": {
   "name": "python3",
   "display_name": "Python 3",
   "language": "python"
  }
 },
 "nbformat": 4,
 "nbformat_minor": 2,
 "cells": [
  {
   "cell_type": "code",
   "execution_count": 14,
   "metadata": {},
   "outputs": [],
   "source": [
    "%matplotlib inline\n",
    "import math\n",
    "import numpy as np\n",
    "import matplotlib.pyplot as plt\n",
    "import scipy.stats\n",
    "import ipywidgets as widgets\n"
   ]
  },
  {
   "cell_type": "code",
   "execution_count": 15,
   "metadata": {},
   "outputs": [],
   "source": [
    "def make_row(N, mu, sigma2):\n",
    "    row = np.random.normal(size=int(N), loc=mu, scale=sigma2 ** .5)\n",
    "    return row\n",
    "\n",
    "\n",
    "\n",
    "def check_1(row, sigma2, alpha, mu_check):\n",
    "    N = len(row)\n",
    "    mean = np.mean(row)\n",
    "    n_sqrt = np.sqrt(N)\n",
    "    sigma = np.sqrt(sigma2)\n",
    "    # Вычисление доверительного интервала при известной дисперсии\n",
    "    u = scipy.stats.norm.ppf(1 - alpha / 2)\n",
    "    delta = u * sigma / n_sqrt\n",
    "    interval_with_known_dispersion = ((mean - delta), (mean + delta))\n",
    "    return mu_check >= interval_with_known_dispersion[0] and mu_check <= interval_with_known_dispersion[1]\n",
    "\n",
    "def check_2(row, alpha, mu_check):\n",
    "    N = len(row)\n",
    "    mean = np.mean(row)\n",
    "    n_sqrt = np.sqrt(N)\n",
    "    # Вычисление доверительного интервала при известной дисперсии\n",
    "    tau = scipy.stats.t.ppf(1 - alpha / 2, N - 1)\n",
    "    S = np.sqrt(np.mean(np.square(row - mean)))\n",
    "    delta = tau * S / n_sqrt\n",
    "    interval_with_unknown_dispersion = ((mean - delta), (mean + delta))\n",
    "    return mu_check >= interval_with_unknown_dispersion[0] and mu_check <= interval_with_unknown_dispersion[1]\n",
    "\n",
    "def check_3(row, alpha, dispersion_check):\n",
    "    N = len(row)\n",
    "    mean = np.mean(row)\n",
    "    n_sqrt = np.sqrt(N)\n",
    "    S = np.sqrt(np.mean(np.square(row - mean)))\n",
    "    z1 = scipy.stats.poisson.ppf(1 - alpha / 2, N - 1)\n",
    "    z2 = scipy.stats.poisson.ppf(alpha / 2, N - 1)\n",
    "    interval_of_dispersion = (N * S ** 2 / z1, N * S ** 2 / z2) \n",
    "    print(interval_of_dispersion)\n",
    "    return dispersion_check >= interval_of_dispersion[0] and dispersion_check <= interval_of_dispersion[1]"
   ]
  },
  {
   "cell_type": "code",
   "execution_count": 16,
   "metadata": {},
   "outputs": [],
   "source": [
    "out = widgets.Output(layout={'border': '1px solid black'})\n",
    "def on_click(btn):\n",
    "    out.clear_output()\n",
    "    res = \"\"\n",
    "    res += \"Гипотеза о математическом ожидании при известной дисперсии:\" + \"\\n\"\n",
    "    row = make_row(N.value, mu.value, sigma2.value)\n",
    "    if check_1(row, sigma2.value, alpha.value, mu_check.value):\n",
    "        res += \"Выполняется гипотеза H0\" + \"\\n\"\n",
    "    else:\n",
    "        res += \"Выполняется гипотеза H1\" + \"\\n\"\n",
    "    res += \"Гипотеза о математическом ожидании при неизвестной дисперсии:\" + \"\\n\"\n",
    "    if check_2(row, alpha.value, mu_check.value):\n",
    "        res += \"Выполняется гипотеза H0\" + \"\\n\"\n",
    "    else:\n",
    "        res += \"Выполняется гипотеза H1\" + \"\\n\"\n",
    "    res += \"Гипотеза о дисперсии:\" + \"\\n\"\n",
    "    if check_3(row, alpha.value, dispersion_check.value):\n",
    "        res += \"Выполняется гипотеза H0\" + \"\\n\"\n",
    "    else:\n",
    "        res += \"Выполняется гипотеза H1\" + \"\\n\"\n",
    "    \n",
    "    out.append_stdout(res)\n",
    "\n",
    "def mk_btn(description):\n",
    "    btn = widgets.Button(description=description, layout=widgets.Layout(width=\"200px\"))\n",
    "    btn.on_click(on_click)\n",
    "    return btn"
   ]
  },
  {
   "cell_type": "code",
   "execution_count": 19,
   "metadata": {},
   "outputs": [
    {
     "output_type": "display_data",
     "data": {
      "text/plain": "VBox(children=(Label(value='Данные для проверки'), FloatText(value=0.0, description='μ:'), FloatText(value=1.0…",
      "application/vnd.jupyter.widget-view+json": {
       "version_major": 2,
       "version_minor": 0,
       "model_id": "6ccfd2f7a7d540bab752bead631d1652"
      }
     },
     "metadata": {}
    }
   ],
   "source": [
    "dist_label = widgets.Label(value=\"Параметры распределения\")\n",
    "N = widgets.FloatText(description='N:', value=20)\n",
    "mu = widgets.FloatText(description='μ:', value=0)\n",
    "sigma2 = widgets.FloatText(description='σ²:', value=1)\n",
    "dist_label = widgets.Label(value=\"Данные для проверки\")\n",
    "alpha = widgets.BoundedFloatText(description='α:', value=0.05, min=0.001, max=1)\n",
    "mu_check = widgets.FloatText(description='Мат. ожидание:')\n",
    "dispersion_check = widgets.FloatText(description='Дисперсия:', value=1)\n",
    "\n",
    "button = mk_btn(\"Проверить гипотезы\")\n",
    "\n",
    "widgets.VBox((dist_label, mu, sigma2, N, dist_label, alpha, mu_check, dispersion_check, button))\n"
   ]
  },
  {
   "cell_type": "code",
   "execution_count": 20,
   "metadata": {},
   "outputs": [
    {
     "output_type": "display_data",
     "data": {
      "text/plain": "Output(layout=Layout(border='1px solid black'))",
      "application/vnd.jupyter.widget-view+json": {
       "version_major": 2,
       "version_minor": 0,
       "model_id": "f8149b71474b44f2baab20ee1d1b9bfb"
      }
     },
     "metadata": {}
    }
   ],
   "source": [
    "out"
   ]
  },
  {
   "cell_type": "code",
   "execution_count": null,
   "metadata": {},
   "outputs": [],
   "source": []
  },
  {
   "cell_type": "code",
   "execution_count": null,
   "metadata": {},
   "outputs": [],
   "source": []
  }
 ]
}