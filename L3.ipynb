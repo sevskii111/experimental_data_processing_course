{
 "metadata": {
  "language_info": {
   "codemirror_mode": {
    "name": "ipython",
    "version": 3
   },
   "file_extension": ".py",
   "mimetype": "text/x-python",
   "name": "python",
   "nbconvert_exporter": "python",
   "pygments_lexer": "ipython3",
   "version": "3.7.6-final"
  },
  "orig_nbformat": 2,
  "kernelspec": {
   "name": "python3",
   "display_name": "Python 3",
   "language": "python"
  }
 },
 "nbformat": 4,
 "nbformat_minor": 2,
 "cells": [
  {
   "cell_type": "code",
   "execution_count": 1,
   "metadata": {},
   "outputs": [],
   "source": [
    "%matplotlib inline\n",
    "import math\n",
    "import numpy as np\n",
    "import matplotlib.pyplot as plt\n",
    "import scipy.stats\n",
    "import ipywidgets as widgets\n"
   ]
  },
  {
   "cell_type": "code",
   "execution_count": 2,
   "metadata": {},
   "outputs": [],
   "source": [
    "def make_row(N, mu, sigma2):\n",
    "    row = np.random.normal(size=int(N), loc=mu, scale=sigma2 ** .5)\n",
    "    return row\n",
    "\n",
    "\n",
    "\n",
    "def check_1(row, sigma2, alpha, mu_check):\n",
    "    N = len(row)\n",
    "    mean = np.mean(row)\n",
    "    n_sqrt = np.sqrt(N)\n",
    "    sigma = np.sqrt(sigma2)\n",
    "    u = scipy.stats.norm.ppf(1 - alpha / 2)\n",
    "    Z = np.abs((mean - mu_check) / (sigma / n_sqrt))\n",
    "    print(\"u = {:.2f}\".format(u))\n",
    "    print(\"Z = {:.2f}\".format(Z))\n",
    "    return Z <= u\n",
    "\n",
    "def check_2(row, alpha, mu_check):\n",
    "    N = len(row)\n",
    "    mean = np.mean(row)\n",
    "    n_sqrt = np.sqrt(N)\n",
    "    tau = scipy.stats.t.ppf(1 - alpha / 2, N - 1)\n",
    "    s = np.sqrt(np.mean(np.square(row - mean)))\n",
    "    Z = np.abs((mean - mu_check) / (s / n_sqrt))\n",
    "    print(\"tau = {:.2f}\".format(tau))\n",
    "    print(\"Z = {:.2f}\".format(Z))\n",
    "    return Z <= tau\n",
    "\n",
    "def check_3(row, alpha, dispersion_check):\n",
    "    N = len(row)\n",
    "    mean = np.mean(row)\n",
    "    n_sqrt = np.sqrt(N)\n",
    "    S = np.sqrt(np.mean(np.square(row - mean)))\n",
    "    z1 = scipy.stats.poisson.ppf(1 - alpha / 2, N - 1)\n",
    "    z2 = scipy.stats.poisson.ppf(alpha / 2, N - 1)\n",
    "    Z = N * S ** 2 / dispersion_check ** 2\n",
    "    print(\"Z = {:.2f}\".format(Z))\n",
    "    print(\"z1 = {:.2f}\".format(z1))\n",
    "    print(\"z2 = {:.2f}\".format(z2))\n",
    "\n",
    "    return Z <= z1 and Z >= z2"
   ]
  },
  {
   "cell_type": "code",
   "execution_count": 3,
   "metadata": {},
   "outputs": [],
   "source": [
    "out = widgets.Output()\n",
    "row_out = widgets.Output()\n",
    "num_row = []\n",
    "def generate_row(btn):\n",
    "    global num_row\n",
    "    num_row = make_row(N.value, mu.value, sigma2.value)\n",
    "    row_out.clear_output()\n",
    "    with row_out:\n",
    "        print(\"\\n\".join(list(map(str, num_row[:10]))))\n",
    "\n",
    "def on_click(btn):\n",
    "    out.clear_output()\n",
    "    with out:\n",
    "        if (len(num_row) < 1):\n",
    "            print(\"Пожалуйста сначала сгенерируйте выборку\")\n",
    "            return\n",
    "        print(\"Гипотеза о математическом ожидании при известной дисперсии:\")\n",
    "        if check_1(num_row, sigma2.value, alpha.value, mu_check.value):\n",
    "            print(\"Выполняется гипотеза H0\")\n",
    "        else:\n",
    "            print(\"Выполняется гипотеза H1\")\n",
    "        print()\n",
    "        \n",
    "        print(\"Гипотеза о математическом ожидании при неизвестной дисперсии:\")\n",
    "        if check_2(num_row, alpha.value, mu_check.value):\n",
    "            print(\"Выполняется гипотеза H0\")\n",
    "        else:\n",
    "            print(\"Выполняется гипотеза H1\")\n",
    "        print()\n",
    "\n",
    "        print(\"Гипотеза о дисперсии:\")\n",
    "        if check_3(num_row, alpha.value, dispersion_check.value):\n",
    "            print(\"Выполняется гипотеза H0\")\n",
    "        else:\n",
    "            print(\"Выполняется гипотеза H1\")\n",
    "        \n",
    "\n",
    "def mk_btn(description, action):\n",
    "    btn = widgets.Button(description=description, layout=widgets.Layout(width=\"200px\"))\n",
    "    btn.on_click(action)\n",
    "    return btn"
   ]
  },
  {
   "cell_type": "code",
   "execution_count": 4,
   "metadata": {},
   "outputs": [
    {
     "output_type": "display_data",
     "data": {
      "text/plain": "VBox(children=(Label(value='Параметры распределения'), FloatText(value=0.0, description='μ:'), FloatText(value…",
      "application/vnd.jupyter.widget-view+json": {
       "version_major": 2,
       "version_minor": 0,
       "model_id": "67109120cc144c4497e67016342ae33c"
      }
     },
     "metadata": {}
    }
   ],
   "source": [
    "dist_label = widgets.Label(value=\"Параметры распределения\")\n",
    "N = widgets.FloatText(description='N:', value=100)\n",
    "mu = widgets.FloatText(description='μ:', value=0)\n",
    "sigma2 = widgets.FloatText(description='σ²:', value=1)\n",
    "\n",
    "generate_button = mk_btn(\"Сгенерировать выборку\", generate_row)\n",
    "\n",
    "check_label = widgets.Label(value=\"Данные для проверки\")\n",
    "alpha = widgets.BoundedFloatText(description='α:', value=0.05, min=0.001, max=1)\n",
    "mu_check = widgets.FloatText(description='Мат. ожидание:')\n",
    "dispersion_check = widgets.FloatText(description='Дисперсия:', value=1)\n",
    "\n",
    "check_button = mk_btn(\"Проверить гипотезы\", on_click)\n",
    "\n",
    "widgets.VBox((dist_label, mu, sigma2, N, generate_button, check_label, alpha, mu_check, dispersion_check, check_button))\n"
   ]
  },
  {
   "cell_type": "code",
   "execution_count": 5,
   "metadata": {},
   "outputs": [
    {
     "output_type": "display_data",
     "data": {
      "text/plain": "Output()",
      "application/vnd.jupyter.widget-view+json": {
       "version_major": 2,
       "version_minor": 0,
       "model_id": "5e820af737964ac6875b88d59a75118b"
      }
     },
     "metadata": {}
    }
   ],
   "source": [
    "out"
   ]
  },
  {
   "cell_type": "code",
   "execution_count": 6,
   "metadata": {},
   "outputs": [
    {
     "output_type": "display_data",
     "data": {
      "text/plain": "Output()",
      "application/vnd.jupyter.widget-view+json": {
       "version_major": 2,
       "version_minor": 0,
       "model_id": "61144ea03f54469e8bb2cc38bae295a6"
      }
     },
     "metadata": {}
    }
   ],
   "source": [
    "row_out"
   ]
  },
  {
   "cell_type": "code",
   "execution_count": null,
   "metadata": {},
   "outputs": [],
   "source": []
  }
 ]
}